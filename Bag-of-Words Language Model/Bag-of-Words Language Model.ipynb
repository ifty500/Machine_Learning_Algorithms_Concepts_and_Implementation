{
 "cells": [
  {
   "cell_type": "markdown",
   "metadata": {},
   "source": [
    "# Intro to Bag-of-Words\n",
    "“A bag-of-words is all you need,” some NLPers have decreed.\n",
    "\n",
    "The bag-of-words language model is a simple-yet-powerful tool to have up your sleeve when working on natural language processing (NLP). The model has many, many use cases including:\n",
    "\n",
    "determining topics in a song\n",
    "filtering spam from your inbox\n",
    "finding out if a tweet has positive or negative sentiment\n",
    "creating word clouds"
   ]
  },
  {
   "cell_type": "code",
   "execution_count": null,
   "metadata": {},
   "outputs": [],
   "source": []
  },
  {
   "cell_type": "code",
   "execution_count": null,
   "metadata": {},
   "outputs": [],
   "source": []
  },
  {
   "cell_type": "code",
   "execution_count": null,
   "metadata": {},
   "outputs": [],
   "source": [
    "from spam_data import training_spam_docs, training_doc_tokens, training_labels\n",
    "from sklearn.naive_bayes import MultinomialNB\n",
    "from preprocessing import preprocess_text\n",
    "\n",
    "# Add your email text to test_text between the triple quotes:\n",
    "test_text = \"\"\"\n",
    "Our records indicate your Pension is under-performing to see higher growth and up to 25% cash release reply for a free review.\n",
    "\"\"\"\n",
    "test_text1 = \"\"\"\n",
    "Have you ever wondered how an email ends up in the spam folder? Or how customer service phone systems are able to understand what you're saying? From a cleaner inbox to faster customer service and virtual assistants that can tell you the weather, the number of applications using natural language processing (NLP) is rapidly growing. NLP is all about how computers work with human language. Learn how to create your own powerful NLP programs with this new course!\n",
    "\n",
    "Start Now\n",
    "\n",
    "Happy coding,\n",
    "Codecademy\n",
    "\"\"\"\n",
    "test_tokens = preprocess_text(test_text)\n",
    "\n",
    "def create_features_dictionary(document_tokens):\n",
    "  features_dictionary = {}\n",
    "  index = 0\n",
    "  for token in document_tokens:\n",
    "    if token not in features_dictionary:\n",
    "      features_dictionary[token] = index\n",
    "      index += 1\n",
    "  return features_dictionary\n",
    "\n",
    "def tokens_to_bow_vector(document_tokens, features_dictionary):\n",
    "  bow_vector = [0] * len(features_dictionary)\n",
    "  for token in document_tokens:\n",
    "    if token in features_dictionary:\n",
    "      feature_index = features_dictionary[token]\n",
    "      bow_vector[feature_index] += 1\n",
    "  return bow_vector\n",
    "\n",
    "bow_sms_dictionary = create_features_dictionary(training_doc_tokens)\n",
    "training_vectors = [tokens_to_bow_vector(training_doc, bow_sms_dictionary) for training_doc in training_spam_docs]\n",
    "test_vectors = [tokens_to_bow_vector(test_tokens, bow_sms_dictionary)]\n",
    "\n",
    "spam_classifier = MultinomialNB()\n",
    "spam_classifier.fit(training_vectors, training_labels)\n",
    "\n",
    "predictions = spam_classifier.predict(test_vectors)\n",
    "\n",
    "print(\"Looks like a normal email!\" if predictions[0] == 0 else \"You've got spam!\")"
   ]
  },
  {
   "cell_type": "code",
   "execution_count": null,
   "metadata": {},
   "outputs": [],
   "source": []
  }
 ],
 "metadata": {
  "kernelspec": {
   "display_name": "Python 3",
   "language": "python",
   "name": "python3"
  },
  "language_info": {
   "codemirror_mode": {
    "name": "ipython",
    "version": 3
   },
   "file_extension": ".py",
   "mimetype": "text/x-python",
   "name": "python",
   "nbconvert_exporter": "python",
   "pygments_lexer": "ipython3",
   "version": "3.7.3"
  }
 },
 "nbformat": 4,
 "nbformat_minor": 2
}
