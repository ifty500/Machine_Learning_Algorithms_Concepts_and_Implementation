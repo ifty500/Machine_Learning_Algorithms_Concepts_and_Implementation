{
 "cells": [
  {
   "cell_type": "markdown",
   "metadata": {},
   "source": [
    "# Understanding Neural Networks\n",
    "\n",
    "As you are reading this article, the very same brain that sometimes forgets why you walked into a room is magically translating these pixels into letters, words, and sentences — a feat that puts the world’s fastest supercomputers to shame. Within the brain, thousands of neurons are firing at incredible speed and accuracy to help us recognize text, images, and the world at large.\n",
    "\n",
    "<img src=\"images/JEFlGfz.png\" width=\"800\" height=\"400\">\n",
    "\n",
    "\n",
    "A neural network is a programming model that simulates the human brain. Let’s explore how it came into existence.\n",
    "\n",
    "## The Birth of an Artificial Neuron\n",
    "\n",
    "Computers have been designed to excel at number-crunching tasks, something that most humans find terrifying. On the other hand, humans are naturally wired to effortlessly recognize objects and patterns, something that computers find difficult.\n",
    "\n",
    "This juxtaposition brought up two important questions in the 1950s:\n",
    "\n",
    "“How can computers be better at solving problems that humans find effortless?”\n",
    "“How can computers solve such problems in the way a human brain does?”\n",
    "In 1957, Frank Rosenblatt explored the second question and invented the Perceptron algorithm that allowed an artificial neuron to simulate a biological neuron! The artificial neuron could take in an input, process it based on some rules, and fire a result. But computers had been doing this for years — what was so remarkable?\n",
    "\n",
    "<img src=\"images/perceptron.png\" width=\"800\" height=\"400\">\n",
    "\n",
    "\n",
    "There was a final step in the Perceptron algorithm that would give rise to the incredibly mysterious world of Neural Networks — the artificial neuron could train itself based on its own results, and fire better results in the future. In other words, it could learn by trial and error, just like a biological neuron.\n",
    "\n",
    "## More Neurons\n",
    "\n",
    "The Perceptron Algorithm used multiple artificial neurons, or perceptrons, for image recognition tasks and opened up a whole new way to solve computational problems. However, as it turns out, this wasn’t enough to solve a wide range of problems, and interest in the Perceptron Algorithm along with Neural Networks waned for many years.\n",
    "\n",
    "But many years later, the neurons fired back.\n",
    "\n",
    "<img src=\"images/EmaJ5JU.gif\" width=\"800\" height=\"400\">\n",
    "\n",
    "\n",
    "It was found out that creating multiple layers of neurons — with one layer feeding its output to the next layer as input — could process a wide range of inputs, make complex decisions, and still produce meaningful results. With some tweaks, the algorithm became known as the Multilayer Perceptron, which led to the rise of Feedforward Neural Networks.\n",
    "\n",
    "60 Years Later…\n",
    "\n",
    "With Feedforward Networks, the results improved. But it was only recently, with the development of high-speed processors, that neural networks finally got the necessary computing power to seamlessly integrate into daily human life.\n",
    "\n",
    "Today, the applications of neural networks have become widespread — from simple tasks like speech recognition to more complicated tasks like self-driving vehicles.\n",
    "\n",
    "In 2012, Alex Krizhevsky and his team at University of Toronto entered the ImageNet competition (the annual Olympics of computer vision) and trained a deep convolutional neural network [pdf]. No one truly understood how it made the decisions it did, but it worked better than any other traditional classifier, by a huge 10.8% margin.\n",
    "\n",
    "## Summary\n",
    "\n",
    "The neurons have come a long way. They have braved the AI winter and remained patient amidst the lack of computing power in the 20th century. They have now taken the world by storm and deservedly so.\n",
    "\n",
    "Neural networks are ridiculously good at generating results but also mysteriously complex; the apparent complexity of the decision-making process makes it difficult to say exactly how neural networks arrive at their superhuman level of accuracy.\n",
    "\n",
    "Let’s dive into the world of Neural Networks and relish in all its mystery!"
   ]
  },
  {
   "cell_type": "code",
   "execution_count": null,
   "metadata": {},
   "outputs": [],
   "source": []
  },
  {
   "cell_type": "code",
   "execution_count": null,
   "metadata": {},
   "outputs": [],
   "source": []
  },
  {
   "cell_type": "code",
   "execution_count": null,
   "metadata": {},
   "outputs": [],
   "source": []
  },
  {
   "cell_type": "markdown",
   "metadata": {},
   "source": [
    "# What is a Perceptron?\n",
    "\n",
    "Similar to how atoms are the building blocks of matter and how microprocessors are the building blocks of a computer, perceptrons are the building blocks of Neural Networks.\n",
    "\n",
    "If you look closely, you might notice that the word “perceptron” is a combination of two words:\n",
    "\n",
    "* Perception (noun) the ability to sense something\n",
    "\n",
    "* Neuron (noun) a nerve cell in the human brain that turns sensory input into meaningful information\n",
    "\n",
    "Therefore, the perceptron is an artificial neuron that simulates the task of a biological neuron to solve problems through its own “sense” of the world.\n",
    "\n",
    "Although the perceptron comes with its own artificial design and set of parameters, at its core, a single perceptron is trying to make a simple decision.\n",
    "\n",
    "Let’s take the example a simple self-driving car that is based on a perceptron. If there’s an obstacle on the left, the car would have to steer right. Similarly, if there’s an obstacle on the right, the car would have to steer left.\n",
    "\n",
    "For this example, a perceptron could take the position of the obstacle as inputs, and produce a decision — left turn or right turn — based on those inputs.\n",
    "\n",
    "And here’s the cool part — the perceptron can correct itself based on the result of its decision to make better decisions in the future!\n",
    "\n",
    "Of course, the real world scenario isn’t that simple. But if you combine a bunch of such perceptrons, you will get a neural network that can even make better decisions on your behalf!"
   ]
  },
  {
   "cell_type": "markdown",
   "metadata": {},
   "source": [
    "<img src=\"images/perceptron.png\" width=\"800\" height=\"800\">"
   ]
  },
  {
   "cell_type": "code",
   "execution_count": null,
   "metadata": {},
   "outputs": [],
   "source": []
  },
  {
   "cell_type": "code",
   "execution_count": null,
   "metadata": {},
   "outputs": [],
   "source": []
  },
  {
   "cell_type": "markdown",
   "metadata": {},
   "source": [
    "# Representing a Perceptron\n",
    "So the perceptron is an artificial neuron that can make a simple decision. Let’s implement one from scratch in Python!\n",
    "\n",
    "The perceptron has three main components:\n",
    "\n",
    "Inputs: Each input corresponds to a feature. For example, in the case of a person, features could be age, height, weight, college degree, etc.\n",
    "\n",
    "* Weights: Each input also has a weight which assigns a certain amount of importance to the input. If an input’s weight is large, it means this input plays a bigger role in determining the output. For example, a team’s skill level will have a bigger weight than the average age of players in determining the outcome of a match.\n",
    "\n",
    "\n",
    "* Output: Finally, the perceptron uses the inputs and weights to produce an output. The type of the output varies depending on the nature of the problem. For example, to predict whether or not it’s going to rain, the output has to be binary — 1 for Yes and 0 for No. However, to predict the temperature for the next day, the range of the output has to be larger — say a number from 70 to 90."
   ]
  },
  {
   "cell_type": "markdown",
   "metadata": {},
   "source": [
    "# Instructions\n",
    "1.\n",
    "Our Perceptron class by default takes two inputs and a pre-defined weight for each input.\n",
    "\n",
    "Complete the __init__() method inside the Perceptron class by creating instance variables self.num_inputs and self.weights that represent the attributes of a Perceptron object.\n",
    "\n",
    "Assign the parameters num_inputs and weights to self.num_inputs and self.weights respectively.\n",
    "\n",
    "Checkpoint 2 Passed\n",
    "\n",
    "\n",
    "2.\n",
    "Create a Perceptron object called cool_perceptron (without any arguments) and print it out to see what it looks like."
   ]
  },
  {
   "cell_type": "code",
   "execution_count": 3,
   "metadata": {},
   "outputs": [
    {
     "name": "stdout",
     "output_type": "stream",
     "text": [
      "<__main__.Perceptron object at 0x000002BCAA0ED080>\n"
     ]
    }
   ],
   "source": [
    "class Perceptron:\n",
    "  def __init__(self, num_inputs=2, weights=[1,1]):\n",
    "    # complete the default constructor method\n",
    "    self.num_inputs = num_inputs\n",
    "    self.weights = weights\n",
    "  \n",
    "\n",
    "    \n",
    "    \n",
    "cool_perceptron =  Perceptron()\n",
    "\n",
    "print(cool_perceptron)"
   ]
  },
  {
   "cell_type": "code",
   "execution_count": null,
   "metadata": {},
   "outputs": [],
   "source": []
  },
  {
   "cell_type": "code",
   "execution_count": null,
   "metadata": {},
   "outputs": [],
   "source": []
  },
  {
   "cell_type": "markdown",
   "metadata": {},
   "source": [
    "# Step 1: Weighted Sum\n",
    "\n",
    "Great! Now that you understand the structure of the perceptron, here’s an important question — how are the inputs and weights magically turned into an output? This is a two-step process, and the first step is finding the weighted sum of the inputs.\n",
    "\n",
    "What is the weighted sum? This is just a number that gives a reasonable representation of the inputs:\n",
    "\n",
    "$weighted\\ sum = x_1w_1 + x_2w_2 + ... + x_nw_n $\n",
    "\n",
    "The x‘s are the inputs and the w‘s are the weights.\n",
    "\n",
    "Here’s how we can implement it:\n",
    "\n",
    "* Start with a weighted sum of 0. Let’s call it weighted_sum.\n",
    "\n",
    "* Start with the first input and multiply it by its corresponding weight. Add this result to weighted_sum.\n",
    "\n",
    "* Go to the next input and multiply it by its corresponding weight. Add this result to weighted_sum.\n",
    "\n",
    "* Repeat this process for all inputs."
   ]
  },
  {
   "cell_type": "markdown",
   "metadata": {},
   "source": [
    "# Instructions\n",
    "1.\n",
    "Create a variable called weighted_sum to hold the value of the weighted sum and set its starting value to 0.\n",
    "\n",
    "Return weighted_sum outside the for loop.\n",
    "\n",
    "Checkpoint 2 Passed\n",
    "\n",
    "\n",
    "2.\n",
    "Let’s go through each input-weight pair and find the weighted sum using indexing.\n",
    "\n",
    "Delete the pass statement inside the for loop. For each iteration in the loop, find the product of the input and weight at index i, add the result to weighted_sum, and store it back in weighted_sum to update the value of weighted_sum.\n",
    "\n",
    "Checkpoint 3 Passed\n",
    "\n",
    "\n",
    "3.\n",
    "Outside the Perceptron class, after the Perceptron object cool_perceptron has been created, print out the weighted sum for the inputs [24, 55].\n",
    "\n",
    "What is the weighted sum?"
   ]
  },
  {
   "cell_type": "code",
   "execution_count": 4,
   "metadata": {},
   "outputs": [
    {
     "name": "stdout",
     "output_type": "stream",
     "text": [
      "103\n"
     ]
    }
   ],
   "source": [
    "class Perceptron:\n",
    "  def __init__(self, num_inputs=2, weights=[2,1]):\n",
    "    self.num_inputs = num_inputs\n",
    "    self.weights = weights\n",
    "    \n",
    "  def weighted_sum(self, inputs):\n",
    "    # create variable to store weighted sum\n",
    "    weighted_sum = 0\n",
    "    for i in range(self.num_inputs):\n",
    "      weighted_sum +=   self.weights[i] * inputs[i]\n",
    "    return weighted_sum\n",
    "      # complete this loop\n",
    "      \n",
    "cool_perceptron = Perceptron()\n",
    "\n",
    "print(cool_perceptron.weighted_sum([24,55]))\n",
    "\n"
   ]
  },
  {
   "cell_type": "code",
   "execution_count": null,
   "metadata": {},
   "outputs": [],
   "source": []
  },
  {
   "cell_type": "markdown",
   "metadata": {},
   "source": [
    "# Step 2: Activation Function\n",
    "\n",
    "After finding the weighted sum, the second step is to constrain the weighted sum to produce a desired output.\n",
    "\n",
    "Why is that important? Imagine if a perceptron had inputs in the range of 100-1000 but the goal was to simply predict whether or not something would occur — 1 for “Yes” and 0 for “No”. This would result in a very large weighted sum.\n",
    "\n",
    "How can the perceptron produce a meaningful output in this case? This is exactly where activation functions come in! These are special functions that transform the weighted sum into a desired and constrained output.\n",
    "\n",
    "For example, if you want to train a perceptron to detect whether a point is above or below a line (which we will be doing in this lesson!), you might want the output to be a +1 or -1 label. For this task, you can use the “sign activation function” to help the perceptron make the decision:\n",
    "\n",
    "    If weighted sum is positive, return +1\n",
    "    If weighted sum is negative, return -1\n",
    "In this lesson, we will focus on using the sign activation function because it is the simplest way to get started with perceptrons and eventually visualize one in action."
   ]
  },
  {
   "cell_type": "markdown",
   "metadata": {},
   "source": [
    "# Instructions\n",
    "1.\n",
    "Inside the .activation() method, return 1 if the weighted_sum is greater than or equal to 0.\n",
    "\n",
    "Checkpoint 2 Passed\n",
    "\n",
    "\n",
    "2.\n",
    "Inside the .activation() method, return -1 if the weighted_sum is less than 0.\n",
    "\n",
    "Checkpoint 3 Passed\n",
    "\n",
    "\n",
    "3.\n",
    "Try it out for yourself!\n",
    "\n",
    "Print out the result of the method .activation() called on cool_perceptron if the weighted sum is 52."
   ]
  },
  {
   "cell_type": "code",
   "execution_count": 5,
   "metadata": {},
   "outputs": [
    {
     "name": "stdout",
     "output_type": "stream",
     "text": [
      "79\n",
      "1\n"
     ]
    }
   ],
   "source": [
    "class Perceptron:\n",
    "  def __init__(self, num_inputs=2, weights=[1,1]):\n",
    "    self.num_inputs = num_inputs\n",
    "    self.weights = weights\n",
    "    \n",
    "  def weighted_sum(self, inputs):\n",
    "    weighted_sum = 0\n",
    "    for i in range(self.num_inputs):\n",
    "      weighted_sum += self.weights[i]*inputs[i]\n",
    "    return weighted_sum\n",
    "  \n",
    "  def activation(self, weighted_sum):\n",
    "    if weighted_sum >=0:\n",
    "      return 1\n",
    "    else:\n",
    "      return -1\n",
    "    #Complete this method\n",
    "\n",
    "cool_perceptron = Perceptron()\n",
    "print(cool_perceptron.weighted_sum([24, 55]))\n",
    "\n",
    "print(cool_perceptron.activation(52))"
   ]
  },
  {
   "cell_type": "code",
   "execution_count": null,
   "metadata": {},
   "outputs": [],
   "source": []
  },
  {
   "cell_type": "markdown",
   "metadata": {},
   "source": [
    "# Training the Perceptron\n",
    "\n",
    "Our perceptron can now make a prediction given inputs, but how do we know if it gets those predictions right?\n",
    "\n",
    "Right now we expect the perceptron to be very bad because it has random weights. We haven’t taught it anything yet, so we can’t expect it to get classifications correct! The good news is that we can train the perceptron to produce better and better results! In order to do this, we provide the perceptron a training set — a collection of random inputs with correctly predicted outputs.\n",
    "\n",
    "On the right, you can see a plot of scattered points with positive and negative labels. This is a simple training set.\n",
    "\n",
    "In the code, the training set has been represented as a dictionary with coordinates as keys and labels as values. For example:\n",
    "\n",
    "    training_set = {(18, 49): -1, (2, 17): 1, (24, 35): -1, (14, 26): 1, (17, 34): -1}\n",
    "    \n",
    "    \n",
    "We can measure the perceptron’s actual performance against this training set. By doing so, we get a sense of “how bad” the perceptron is. The goal is to gradually nudge the perceptron — by slightly changing its weights — towards a better version of itself that correctly matches all the input-output pairs in the training set.\n",
    "\n",
    "We will use these points to train the perceptron to correctly separate the positive labels from the negative labels by visualizing the perceptron as a line. Stay tuned!"
   ]
  },
  {
   "cell_type": "code",
   "execution_count": 7,
   "metadata": {},
   "outputs": [
    {
     "data": {
      "image/png": "[encoded data removed]",
      "text/plain": [
       "<Figure size 432x288 with 1 Axes>"
      ]
     },
     "metadata": {
      "needs_background": "light"
     },
     "output_type": "display_data"
    }
   ],
   "source": [
    "\n",
    "import matplotlib.pyplot as plt\n",
    "import random\n",
    "\n",
    "def generate_training_set(num_points):\n",
    "    x_coordinates = [random.randint(0, 50) for i in range(num_points)]\n",
    "    y_coordinates = [random.randint(0, 50) for i in range(num_points)]\n",
    "    training_set = dict()\n",
    "    for x, y in zip(x_coordinates, y_coordinates):\n",
    "        if x <= 45-y:\n",
    "            training_set[(x,y)] = 1\n",
    "        elif x > 45-y:\n",
    "            training_set[(x,y)] = -1\n",
    "    return training_set\n",
    "\n",
    "training_set = generate_training_set(30)\n",
    "\n",
    "x_plus = []\n",
    "y_plus = []\n",
    "x_minus = []\n",
    "y_minus = []\n",
    "\n",
    "for data in training_set:\n",
    "    if training_set[data] == 1:\n",
    "        x_plus.append(data[0])\n",
    "        y_plus.append(data[1])\n",
    "    elif training_set[data] == -1:\n",
    "        x_minus.append(data[0])\n",
    "        y_minus.append(data[1])\n",
    "    \n",
    "fig = plt.figure()\n",
    "ax = plt.axes(xlim=(-25, 75), ylim=(-25, 75))\n",
    "\n",
    "plt.scatter(x_plus, y_plus, marker = '+', c = 'green', s = 128, linewidth = 2)\n",
    "plt.scatter(x_minus, y_minus, marker = '_', c = 'red', s = 128, linewidth = 2)\n",
    "\n",
    "plt.title(\"Training Set\")\n",
    "\n",
    "plt.show()"
   ]
  },
  {
   "cell_type": "code",
   "execution_count": null,
   "metadata": {},
   "outputs": [],
   "source": []
  },
  {
   "cell_type": "code",
   "execution_count": null,
   "metadata": {},
   "outputs": [],
   "source": []
  },
  {
   "cell_type": "markdown",
   "metadata": {},
   "source": [
    "# Training Error\n",
    "\n",
    "Now that we have our training set, we can start feeding inputs into the perceptron and comparing the actual outputs against the expected labels!\n",
    "\n",
    "Every time the output mismatches the expected label, we say that the perceptron has made a training error — a quantity that measures “how bad” the perceptron is performing.\n",
    "\n",
    "As mentioned in the last exercise, the goal is to nudge the perceptron towards zero training error. The training error is calculated by subtracting the predicted label value from the actual label value.\n",
    "\n",
    "$training\\ error = actual\\ label - predicted\\ label$\n",
    "\n",
    "\n",
    "For each point in the training set, the perceptron either produces a +1 or a -1 (as we are using the Sign Activation Function). Since the labels are also a +1 or a -1, there are four different possibilities for the error the perceptron makes:\n",
    "\n",
    "|Actual|\tPredicted|\tTraining Error|\n",
    "|---|---|---|\n",
    "|+1\t|+1|0 |\n",
    "|+1 |-1|2 |\n",
    "|-1 |-1| 0|\n",
    "|-1\t|+1|-2|\n",
    "\n",
    "These training error values will be crucial in improving the perceptron’s performance as we will see in the upcoming exercises."
   ]
  },
  {
   "cell_type": "code",
   "execution_count": null,
   "metadata": {},
   "outputs": [],
   "source": []
  },
  {
   "cell_type": "markdown",
   "metadata": {},
   "source": [
    "# Instructions\n",
    "1.\n",
    "In the .training() method, let’s find the perceptron’s error on each inputs in training_set.\n",
    "\n",
    "    First, we need the perceptron’s predicted output for a point. Inside the for loop, create a variable called prediction and assign it the correct label value using .activation(), .weighted_sum(), and inputs in a single statement.\n",
    "\n",
    "Checkpoint 2 Passed\n",
    "\n",
    "\n",
    "2.\n",
    "Create a variable named actual and assign it the actual label for each inputs in training_set.\n",
    "\n",
    "Checkpoint 3 Passed\n",
    "\n",
    "\n",
    "3.\n",
    "Create a variable called error and assign it the value of actual - prediction."
   ]
  },
  {
   "cell_type": "code",
   "execution_count": 14,
   "metadata": {},
   "outputs": [
    {
     "name": "stdout",
     "output_type": "stream",
     "text": [
      "79\n",
      "1\n",
      "0 -2 0 -2 0 -2 0 -2 0 -2 0 -2 -2 0 -2 0 -2 0 -2 -2 0 0 -2 0 -2 -2 -2 0 -2 -2 "
     ]
    }
   ],
   "source": [
    "class Perceptron:\n",
    "  def __init__(self, num_inputs=2, weights=[1,1]):\n",
    "    self.num_inputs = num_inputs\n",
    "    self.weights = weights\n",
    "    \n",
    "  def weighted_sum(self, inputs):\n",
    "    weighted_sum = 0\n",
    "    for i in range(self.num_inputs):\n",
    "      weighted_sum += self.weights[i]*inputs[i]\n",
    "    return weighted_sum\n",
    "  \n",
    "  def activation(self, weighted_sum):\n",
    "    if weighted_sum >= 0:\n",
    "      return 1\n",
    "    if weighted_sum < 0:\n",
    "      return -1\n",
    "    \n",
    "  def training(self, training_set):\n",
    "    for inputs in training_set:                   \n",
    "      prediction = self.activation(self.weighted_sum(inputs))\n",
    "      actual = training_set[inputs]\n",
    "      error = actual - prediction\n",
    "    return error\n",
    "      \n",
    "cool_perceptron = Perceptron()\n",
    "print(cool_perceptron.weighted_sum([24, 55]))\n",
    "print(cool_perceptron.activation(52))\n",
    "for i in range(30):\n",
    "     print(cool_perceptron.training(generate_training_set(30)), end=\" \")"
   ]
  },
  {
   "cell_type": "code",
   "execution_count": null,
   "metadata": {},
   "outputs": [],
   "source": []
  },
  {
   "cell_type": "markdown",
   "metadata": {},
   "source": [
    "# Tweaking the Weights\n",
    "\n",
    "What do we do once we have the errors for the perceptron? We slowly nudge the perceptron towards a better version of itself that eventually has zero error.\n",
    "\n",
    "The only way to do that is to change the parameters that define the perceptron. We can’t change the inputs so the only thing that can be tweaked are the weights. As we change the weights, the outputs change as well.\n",
    "\n",
    "The goal is to find the optimal combination of weights that will produce the correct output for as many points as possible in the dataset."
   ]
  },
  {
   "cell_type": "markdown",
   "metadata": {},
   "source": [
    "<img src=\"images/yk1mk.png\" width=\"600\" height=\"800\">"
   ]
  },
  {
   "cell_type": "code",
   "execution_count": null,
   "metadata": {},
   "outputs": [],
   "source": []
  },
  {
   "cell_type": "code",
   "execution_count": null,
   "metadata": {},
   "outputs": [],
   "source": []
  },
  {
   "cell_type": "markdown",
   "metadata": {},
   "source": [
    "# The Perceptron Algorithm\n",
    "\n",
    "But one question still remains — how do we tweak the weights optimally? We can’t just play around randomly with the weights until the correct combination magically pops up. There needs to be a way to guarantee that the perceptron improves its performance over time.\n",
    "\n",
    "This is where the Perceptron Algorithm comes in. The math behind why this works is outside the scope of this lesson, so we’ll directly apply the algorithm to optimally tweak the weights and nudge the perceptron towards zero error.\n",
    "\n",
    "The most important part of the algorithm is the update rule where the weights get updated:\n",
    "\n",
    "weight = weight + (error * input)weight=weight+(error∗input)\n",
    "We keep on tweaking the weights until all possible labels are correctly predicted by the perceptron. This means that multiple passes might need to be made through the training_set before the Perceptron Algorithm comes to a halt.\n",
    "\n",
    "In this exercise, you will continue to work on the .training() method. We have made the following changes to this method from the last exercise:\n",
    "\n",
    "* foundLine = False (a boolean that indicates whether the perceptron has found a line to separate the positive and negative labels)\n",
    "\n",
    "* while not foundLine: (a while loop that continues to train the perceptron until the line is found)\n",
    "\n",
    "* total_error = 0 (to count the total error the perceptron makes in each round)\n",
    "\n",
    "* total_error += abs(error) (to update the total error the perceptron makes in each round)"
   ]
  },
  {
   "cell_type": "markdown",
   "metadata": {},
   "source": [
    "# Instructions\n",
    "1.\n",
    "If the algorithm doesn’t find an error, the perceptron must have correctly predicted the labels for all points.\n",
    "\n",
    "Outside the for loop (but inside the while loop), change the value of foundLine to True if total_error equals 0.\n",
    "\n",
    "Checkpoint 2 Passed\n",
    "\n",
    "\n",
    "2.\n",
    "In order to update the weight for each inputs, create another for loop (inside the existing for loop) that iterates a loop variable i through a range of self.num_inputs.\n",
    "\n",
    "Checkpoint 3 Passed\n",
    "\n",
    "\n",
    "3.\n",
    "Inside the second for loop, update each weight self.weights[i] by applying the update rule:\n",
    "\n",
    "weight = weight + (error * inputs)weight=weight+(error∗inputs)\n",
    "Checkpoint 4 Passed\n",
    "\n",
    "\n",
    "4.\n",
    "Great job! Now give it a try for yourself.\n",
    "\n",
    "Train cool_perceptron using small_training_set.\n",
    "\n",
    "You can also print out the optimal weights to see for yourself!"
   ]
  },
  {
   "cell_type": "code",
   "execution_count": 16,
   "metadata": {},
   "outputs": [
    {
     "name": "stdout",
     "output_type": "stream",
     "text": [
      "[-5, 1]\n"
     ]
    }
   ],
   "source": [
    "class Perceptron:\n",
    "  def __init__(self, num_inputs=2, weights=[1,1]):\n",
    "    self.num_inputs = num_inputs\n",
    "    self.weights = weights\n",
    "    \n",
    "  def weighted_sum(self, inputs):\n",
    "    weighted_sum = 0\n",
    "    for i in range(self.num_inputs):\n",
    "      weighted_sum += self.weights[i]*inputs[i]\n",
    "    return weighted_sum\n",
    "  \n",
    "  def activation(self, weighted_sum):\n",
    "    if weighted_sum >= 0:\n",
    "      return 1\n",
    "    if weighted_sum < 0:\n",
    "      return -1\n",
    "    \n",
    "  def training(self, training_set):\n",
    "    foundLine = False\n",
    "    while not foundLine:\n",
    "      total_error = 0\n",
    "      for inputs in training_set:\n",
    "        prediction = self.activation(self.weighted_sum(inputs))\n",
    "        actual = training_set[inputs]\n",
    "        error = actual - prediction\n",
    "        total_error += abs(error)\n",
    "        for i in range(self.num_inputs):\n",
    "          self.weights[i] += error*inputs[i]\n",
    "        \n",
    "        \n",
    "      if total_error == 0:\n",
    "        foundLine = True\n",
    "      \n",
    "cool_perceptron = Perceptron()\n",
    "small_training_set = {(0,3):1, (3,0):-1, (0,-3):-1, (-3,0):1}\n",
    "cool_perceptron.training(small_training_set)\n",
    "print(cool_perceptron.weights)"
   ]
  },
  {
   "cell_type": "code",
   "execution_count": null,
   "metadata": {},
   "outputs": [],
   "source": []
  },
  {
   "cell_type": "markdown",
   "metadata": {},
   "source": [
    "# The Bias Weight\n",
    "You have understood that the perceptron can be trained to produce correct outputs by tweaking the regular weights.\n",
    "\n",
    "However, there are times when a minor adjustment is needed for the perceptron to be more accurate. This supporting role is played by the bias weight. It takes a default input value of 1 and some random weight value.\n",
    "\n",
    "So now the weighted sum equation should look like:\n",
    "\n",
    "$weighted\\ sum = x_1w_1 + x_2w_2 + ... + x_nw_n + 1w_b$ \n",
    "\n",
    "How does this change the code so far? You only have to consider two small changes:\n",
    "\n",
    "* Add a 1 to the set of inputs (now there are 3 inputs instead of 2)\n",
    "\n",
    "* Add a bias weight to the list of weights (now there are 3 weights instead of 2)\n",
    "\n",
    "We’ll automatically make these replacements in the code so you should be good to go!"
   ]
  },
  {
   "cell_type": "code",
   "execution_count": null,
   "metadata": {},
   "outputs": [],
   "source": []
  },
  {
   "cell_type": "code",
   "execution_count": 22,
   "metadata": {},
   "outputs": [],
   "source": [
    "class Perceptron:\n",
    "  def __init__(self, num_inputs=3, weights=[1,1,1]):\n",
    "    self.num_inputs = num_inputs\n",
    "    self.weights = weights\n",
    "    \n",
    "  def weighted_sum(self, inputs):\n",
    "    weighted_sum = 0\n",
    "    for i in range(self.num_inputs):\n",
    "      weighted_sum += self.weights[i]*inputs[i]\n",
    "    return weighted_sum\n",
    "  \n",
    "  def activation(self, weighted_sum):\n",
    "    if weighted_sum >= 0:\n",
    "      return 1\n",
    "    if weighted_sum < 0:\n",
    "      return -1\n",
    "    \n",
    "  def training(self, training_set):\n",
    "    foundLine = False\n",
    "    while not foundLine:\n",
    "      total_error = 0\n",
    "      for inputs in training_set:\n",
    "        prediction = self.activation(self.weighted_sum(inputs))\n",
    "        actual = training_set[inputs]\n",
    "        error = actual - prediction\n",
    "        total_error += abs(error)\n",
    "        for i in range(self.num_inputs):\n",
    "          self.weights[i] += error*inputs[i]\n",
    "      if total_error == 0:\n",
    "        foundLine = True\n",
    "      \n",
    "cool_perceptron = Perceptron()"
   ]
  },
  {
   "cell_type": "code",
   "execution_count": null,
   "metadata": {},
   "outputs": [],
   "source": []
  },
  {
   "cell_type": "code",
   "execution_count": null,
   "metadata": {},
   "outputs": [],
   "source": []
  },
  {
   "cell_type": "markdown",
   "metadata": {},
   "source": [
    "# Representing a Line\n",
    "\n",
    "So far so good! The perceptron works as expected, but everything seems to be taking place behind the scenes. What if we could visualize the perceptron’s training process to gain a better understanding of what’s going on?\n",
    "\n",
    "The weights change throughout the training process so if only we could meaningfully visualize those weights…\n",
    "\n",
    "Turns out we can! In fact, it gets better. The weights can actually be used to represent a line! This greatly simplifies our visualization.\n",
    "\n",
    "You might know that a line can be represented using the slope-intercept form. A perceptron’s weights can be used to find the slope and intercept of the line that the perceptron represents.\n",
    "\n",
    "    slope = -self.weights[0]/self.weights[1]\n",
    "    \n",
    "    intercept = -self.weights[2]/self.weights[1]\n",
    "    \n",
    "The explanation for these equations is beyond the scope of this lesson, so we’ll just use them to visualize the perceptron for now.\n",
    "\n",
    "In the plot on your right, you should be able to see a line that represents the perceptron in its first iteration of the training process."
   ]
  },
  {
   "cell_type": "code",
   "execution_count": 27,
   "metadata": {},
   "outputs": [],
   "source": [
    "lines = []\n",
    "\n",
    "class Perceptron:\n",
    "  def __init__(self, num_inputs=3, weights=[1,1,1]):\n",
    "    self.num_inputs = num_inputs\n",
    "    self.weights = weights\n",
    "\n",
    "  def weighted_sum(self, inputs):\n",
    "    weighted_sum = 0\n",
    "    for i in range(self.num_inputs):\n",
    "      weighted_sum += self.weights[i]*inputs[i]\n",
    "    return weighted_sum\n",
    "\n",
    "  def activation(self, weighted_sum):\n",
    "    if weighted_sum >= 0:\n",
    "      return 1\n",
    "    if weighted_sum < 0:\n",
    "      return -1\n",
    "\n",
    "  def training(self, training_set):\n",
    "    foundLine = False\n",
    "    while not foundLine:\n",
    "      total_error = 0\n",
    "      for inputs in training_set:\n",
    "        prediction = self.activation(self.weighted_sum(inputs))\n",
    "        actual = training_set[inputs]\n",
    "        error = actual - prediction\n",
    "        total_error += abs(error)\n",
    "        for i in range(self.num_inputs):\n",
    "          self.weights[i] += error*inputs[i]\n",
    "\n",
    "      # just add the slope and intercept  \n",
    "      slope = -self.weights[0]/self.weights[1]\n",
    "      intercept = -self.weights[2]/self.weights[1]\n",
    "      y1 = (slope * 0) + intercept\n",
    "      y2 = (slope * 50) + intercept\n",
    "      lines.append([[0,50], [y1, y2]])\n",
    "\n",
    "      if total_error == 0:\n",
    "        foundLine = True\n"
   ]
  },
  {
   "cell_type": "code",
   "execution_count": 28,
   "metadata": {},
   "outputs": [
    {
     "data": {
      "image/png": "[encoded data removed]",
      "text/plain": [
       "<Figure size 432x288 with 1 Axes>"
      ]
     },
     "metadata": {},
     "output_type": "display_data"
    }
   ],
   "source": [
    "\n",
    "import matplotlib.pyplot as plt\n",
    "import matplotlib.animation as animation\n",
    "import random\n",
    "#from perceptron import Perceptron, lines\n",
    "\n",
    "def generate_training_set(num_points):\n",
    "    x_coordinates = [random.randint(0, 50) for i in range(num_points)]\n",
    "    y_coordinates = [random.randint(0, 50) for i in range(num_points)]\n",
    "    training_set = dict()\n",
    "    for x, y in zip(x_coordinates, y_coordinates):\n",
    "        if x <= 45-y:\n",
    "            training_set[(x,y,1)] = 1\n",
    "        elif x > 45-y:\n",
    "            training_set[(x,y,1)] = -1\n",
    "    return training_set\n",
    "\n",
    "training_set = generate_training_set(30)\n",
    "\n",
    "x_plus = []\n",
    "y_plus = []\n",
    "x_minus = []\n",
    "y_minus = []\n",
    "\n",
    "for data in training_set:\n",
    "    if training_set[data] == 1:\n",
    "        x_plus.append(data[0])\n",
    "        y_plus.append(data[1])\n",
    "    elif training_set[data] == -1:\n",
    "        x_minus.append(data[0])\n",
    "        y_minus.append(data[1])\n",
    "\n",
    "perceptron = Perceptron()\n",
    "perceptron.training(training_set)\n",
    "\n",
    "fig = plt.figure()\n",
    "ax = plt.axes(xlim=(-25, 75), ylim=(-25, 75))\n",
    "line, = ax.plot([], [], lw=2)\n",
    "\n",
    "fig.patch.set_facecolor('#ffc107')\n",
    "\n",
    "plt.scatter(x_plus, y_plus, marker = '+', c = 'green', s = 128, linewidth = 2)\n",
    "plt.scatter(x_minus, y_minus, marker = '_', c = 'red', s = 128, linewidth = 2)\n",
    "\n",
    "plt.title('Iteration: 0')\n",
    "\n",
    "\n",
    "def animate(i):\n",
    "    print(i)\n",
    "    line.set_xdata(lines[i][0])  # update the data\n",
    "    line.set_ydata(lines[i][1])  # update the data\n",
    "    return line,\n",
    "\n",
    "def init():\n",
    "    line.set_data([], [])\n",
    "    return line,\n",
    "\n",
    "ani = animation.FuncAnimation(fig, animate, frames=1, init_func=init, interval=50, blit=True, repeat=False)\n",
    "\n",
    "plt.show()"
   ]
  },
  {
   "cell_type": "code",
   "execution_count": null,
   "metadata": {},
   "outputs": [],
   "source": []
  },
  {
   "cell_type": "code",
   "execution_count": null,
   "metadata": {},
   "outputs": [],
   "source": []
  },
  {
   "cell_type": "markdown",
   "metadata": {},
   "source": [
    "# Finding a Linear Classifier\n",
    "\n",
    "Let’s recap what you just learned!\n",
    "\n",
    "The perceptron has inputs, weights, and an output. The weights are parameters that define the perceptron and they can be used to represent a line. In other words, the perceptron can be visualized as a line.\n",
    "\n",
    "What does it mean for the perceptron to correctly classify every point in the training set?\n",
    "\n",
    "Theoretically, it means that the perceptron predicted every label correctly.\n",
    "\n",
    "Visually, it means that the perceptron found a linear classifier, or a decision boundary, that separates the two distinct set of points in the training set.\n",
    "\n",
    "In the plot on the right, you should be able to see the linear classifier that was found by the perceptron in the last iteration of the training process."
   ]
  },
  {
   "cell_type": "markdown",
   "metadata": {},
   "source": [
    "<img src=\"images/otA0O3u.gif\" width=\"600\" height=\"800\">"
   ]
  },
  {
   "cell_type": "code",
   "execution_count": null,
   "metadata": {},
   "outputs": [],
   "source": []
  },
  {
   "cell_type": "markdown",
   "metadata": {},
   "source": [
    "# What's Next? Neural Networks\n",
    "\n",
    "\n",
    "\n",
    "Let’s step back and think about what you just accomplished and see if there are any limits to a single perceptron.\n",
    "\n",
    "Earlier, the data points in the training set were linearly separable i.e. a single line could easily separate the two dissimilar sets of points.\n",
    "\n",
    "What would happen if the data points were scattered in such a way that a line could no longer classify the points? A single perceptron with only two inputs wouldn’t work for such a scenario because it cannot represent a non-linear decision boundary.\n",
    "\n",
    "That’s when more perceptrons and features come into play!\n",
    "\n",
    "By increasing the number of features and perceptrons, we can give rise to the Multilayer Perceptrons, also known as Neural Networks, which can solve much more complicated problems.\n",
    "\n",
    "With a solid understanding of perceptrons, you are now ready to dive into the incredible world of Neural Networks!\n",
    "\n",
    "<img src=\"images/neural-net-image.svg\" width=\"800\" height=\"800\">"
   ]
  },
  {
   "cell_type": "markdown",
   "metadata": {},
   "source": []
  },
  {
   "cell_type": "code",
   "execution_count": null,
   "metadata": {},
   "outputs": [],
   "source": []
  }
 ],
 "metadata": {
  "kernelspec": {
   "display_name": "Python 3",
   "language": "python",
   "name": "python3"
  },
  "language_info": {
   "codemirror_mode": {
    "name": "ipython",
    "version": 3
   },
   "file_extension": ".py",
   "mimetype": "text/x-python",
   "name": "python",
   "nbconvert_exporter": "python",
   "pygments_lexer": "ipython3",
   "version": "3.7.3"
  }
 },
 "nbformat": 4,
 "nbformat_minor": 2
}
