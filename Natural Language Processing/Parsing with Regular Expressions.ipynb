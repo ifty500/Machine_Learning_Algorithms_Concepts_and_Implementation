{
 "cells": [
  {
   "cell_type": "markdown",
   "metadata": {},
   "source": [
    "# Introduction\n",
    "Discovering new code words in declassified CIA documents may seem like a mission for a foreign intelligence service, and detecting gender biases in the Harry Potter novels a task for a literature professor. Yet by utilizing natural language parsing with regular expressions, the power to perform such analyses is in your own hands!\n",
    "\n",
    "While you may not put much explicit thought into the structure of your sentences as you write, the syntax choices you make are critical in ensuring your writing has meaning. Analyzing such sentence structure as well as word choice can not only provide insights into the connotation of a piece text, but can also highlight the biases of its author or uncover additional insights that even a deep, rigorous reading of the text might not reveal.\n",
    "\n",
    "By using Python’s regular expression modulere and the Natural Language Toolkit, known as NLTK, you can find keywords of interest, discover where and how often they are used, and discern the parts-of-speech patterns in which they appear to understand the sometimes hidden meaning in a piece of writing. Let’s get started!"
   ]
  },
  {
   "cell_type": "code",
   "execution_count": null,
   "metadata": {},
   "outputs": [],
   "source": []
  },
  {
   "cell_type": "code",
   "execution_count": 4,
   "metadata": {},
   "outputs": [
    {
     "ename": "ModuleNotFoundError",
     "evalue": "No module named 'np_chunk_counter'",
     "output_type": "error",
     "traceback": [
      "\u001b[1;31m---------------------------------------------------------------------------\u001b[0m",
      "\u001b[1;31mModuleNotFoundError\u001b[0m                       Traceback (most recent call last)",
      "\u001b[1;32m<ipython-input-4-689f53bcb353>\u001b[0m in \u001b[0;36m<module>\u001b[1;34m\u001b[0m\n\u001b[0;32m      1\u001b[0m \u001b[1;32mfrom\u001b[0m \u001b[0mnltk\u001b[0m \u001b[1;32mimport\u001b[0m \u001b[0mRegexpParser\u001b[0m\u001b[1;33m\u001b[0m\u001b[1;33m\u001b[0m\u001b[0m\n\u001b[0;32m      2\u001b[0m \u001b[1;31m#from pos_tagged_oz import pos_tagged_oz\u001b[0m\u001b[1;33m\u001b[0m\u001b[1;33m\u001b[0m\u001b[1;33m\u001b[0m\u001b[0m\n\u001b[1;32m----> 3\u001b[1;33m \u001b[1;32mfrom\u001b[0m \u001b[0mnp_chunk_counter\u001b[0m \u001b[1;32mimport\u001b[0m \u001b[0mnp_chunk_counter\u001b[0m\u001b[1;33m\u001b[0m\u001b[1;33m\u001b[0m\u001b[0m\n\u001b[0m\u001b[0;32m      4\u001b[0m \u001b[1;33m\u001b[0m\u001b[0m\n\u001b[0;32m      5\u001b[0m \u001b[1;31m# define noun-phrase chunk grammar here\u001b[0m\u001b[1;33m\u001b[0m\u001b[1;33m\u001b[0m\u001b[1;33m\u001b[0m\u001b[0m\n",
      "\u001b[1;31mModuleNotFoundError\u001b[0m: No module named 'np_chunk_counter'"
     ]
    }
   ],
   "source": [
    "from nltk import RegexpParser\n",
    "#from pos_tagged_oz import pos_tagged_oz\n",
    "from np_chunk_counter import np_chunk_counter\n",
    "\n",
    "# define noun-phrase chunk grammar here\n",
    "chunk_grammar = \"NP: {<DT>?<JJ>*<NN>}\"\n",
    "\n",
    "# create RegexpParser object here\n",
    "chunk_parser = RegexpParser(chunk_grammar)\n",
    "\n",
    "# create a list to hold noun-phrase chunked sentences\n",
    "np_chunked_oz = list()\n",
    "\n",
    "# create a for-loop through each pos-tagged sentence in pos_tagged_oz here\n",
    "for pos_tagged_sentence in pos_tagged_oz:\n",
    "  # chunk each sentence and append to np_chunked_oz here\n",
    "  np_chunked_oz.append(chunk_parser.parse(pos_tagged_sentence))\n",
    "\n",
    "# store and print the most common np-chunks here\n",
    "most_common_np_chunks = np_chunk_counter(np_chunked_oz)\n",
    "print(most_common_np_chunks)"
   ]
  },
  {
   "cell_type": "code",
   "execution_count": null,
   "metadata": {},
   "outputs": [],
   "source": []
  },
  {
   "cell_type": "markdown",
   "metadata": {},
   "source": [
    "# Compiling and Matching\n",
    "\n",
    "Before you dive into more complex syntax parsing, you’ll begin with basic regular expressions in Python using the re module as a regex refresher.\n",
    "\n",
    "The first method you will explore is .compile(). This method takes a regular expression pattern as an argument and compiles the pattern into a regular expression object, which you can later use to find matching text. The regular expression object below will exactly match 4 upper or lower case characters.\n",
    "\n",
    "    regular_expression_object = re.compile(\"[A-Za-z]{4}\")\n",
    "    \n",
    "Regular expression objects have a .match() method that takes a string of text as an argument and looks for a single match to the regular expression that starts at the beginning of the string. To see if your regular expression matches the string \"Toto\" you can do the following:\n",
    "\n",
    "    result = regular_expression_object.match(\"Toto\")\n",
    "    \n",
    "If .match() finds a match that starts at the beginning of the string, it will return a match object. The match object lets you know what piece of text the regular expression matched, and at what index the match begins and ends. If there is no match, .match() will return None.\n",
    "\n",
    "With the match object stored in result, you can access the matched text by calling result.group(0). If you use a regex containing capture groups, you can access these groups by calling .group() with the appropriately numbered capture group as an argument.\n",
    "\n",
    "Instead of compiling the regular expression first and then looking for a match in separate lines of code, you can simplify your match to one line:\n",
    "\n",
    "    result = re.match(\"[A-Za-z]{4}\",\"Toto\")\n",
    "    \n",
    "With this syntax, re‘s .match() method takes a regular expression pattern as the first argument and a string as the second argument."
   ]
  },
  {
   "cell_type": "markdown",
   "metadata": {},
   "source": [
    "# Instructions\n",
    "1.\n",
    "The re module has been imported for you at the top of the workspace. .compile() a regular expression object named regular_expression that will match any 7 character string of word characters.\n",
    "\n",
    "\n",
    "\n",
    "2.\n",
    "Use regular_expression‘s .match() method to check if the regex matches the string stored in character_1. Save the result to result_1 and print it.\n",
    "\n",
    "\n",
    "3.\n",
    "Access the match in result_1 using its .group() method with an argument of 0. Save the result to match_1 and print it.\n",
    "\n",
    "\n",
    "4.\n",
    "In one line, use re‘s .match() method to compile a regular expression that will match any string of characters of length 7 and check if the regex matches the string stored in character_2. Save the result to result_2 and print it. Was a match found?"
   ]
  },
  {
   "cell_type": "code",
   "execution_count": 5,
   "metadata": {},
   "outputs": [],
   "source": [
    "import re\n",
    "\n",
    "# characters are defined\n",
    "character_1 = \"Dorothy\"\n",
    "character_2 = \"Henry\"\n",
    "\n",
    "# compile your regular expression here\n",
    "regular_expression = re.compile('[A-za-z]{7}')\n",
    "\n",
    "# check for a match to character_1 here\n",
    "\n",
    "result_1 = regular_expression.match(character_1)\n",
    "\n",
    "# store and print the matched text here\n",
    "\n",
    "match_1 =result_1.group(0)\n",
    "\n",
    "# compile a regular expression to match a 7 character string of word characters and check for a match to character_2 here\n",
    "\n",
    "result_2 =regular_expression.match(character_2)"
   ]
  },
  {
   "cell_type": "code",
   "execution_count": null,
   "metadata": {},
   "outputs": [],
   "source": []
  },
  {
   "cell_type": "code",
   "execution_count": null,
   "metadata": {},
   "outputs": [],
   "source": []
  },
  {
   "cell_type": "markdown",
   "metadata": {},
   "source": [
    "# Searching and Finding\n",
    "\n",
    "You can make your regular expression matches even more dynamic with the help of the .search() method. Unlike .match() which will only find matches at the start of a string, .search() will look left to right through an entire piece of text and return a match object for the first match to the regular expression given. If no match is found, .search() will return None. For example, to search for a sequence of 8 word characters in the string Are you a Munchkin?:\n",
    "\n",
    "    result = re.search(\"\\w{8}\",\"Are you a Munchkin?\")\n",
    "Using .search() on the string above will find a match of \"Munchkin\", while using .match() on the same string would return None!\n",
    "\n",
    "So far you have used methods that only return one piece of matching text. What if you want to find all the occurrences of a word or keyword in a piece of text to determine a frequency count? Step in the .findall() method!\n",
    "\n",
    "Given a regular expression as its first argument and a string as its second argument, .findall() will return a list of all non-overlapping matches of the regular expression in the string. Consider the below piece of text:\n",
    "\n",
    "    text = \"Everything is green here, while in the country of the Munchkins blue was the favorite color. But the people do not seem to be as friendly as the Munchkins, and I'm afraid we shall be unable to find a place to pass the night.\"\n",
    "To find all non-overlapping sequences of 8 word characters in the sentence you can do the following:\n",
    "\n",
    "    list_of_matches = re.findall(\"\\w{8}\",text)\n",
    "    \n",
    ".findall() will thus return the list ['Everythi', 'Munchkin', 'favorite', 'friendly', 'Munchkin']."
   ]
  },
  {
   "cell_type": "markdown",
   "metadata": {},
   "source": [
    "# structions\n",
    "1.\n",
    "The entire text of L. Frank Baum’s The Wonderful Wizard of Oz has been stored in oz_text. .search() for the occurrence of \"wizard\" in oz_text. Store the result in found_wizard, and print it.\n",
    "\n",
    "\n",
    "\n",
    "\n",
    "2.\n",
    "Find all occurrences of \"lion\" in oz_text and store the result in all_lions. Print all_lions.\n",
    "\n",
    "\n",
    "3.\n",
    "Save the length of all_lions to number_lions and print it. Given the number of occurrences, is the word “lion” important to the text?\n",
    "\n",
    "It’s important to note that the number of words in an entire text can impact the importance of a given word’s frequency!"
   ]
  },
  {
   "cell_type": "code",
   "execution_count": 6,
   "metadata": {},
   "outputs": [
    {
     "name": "stdout",
     "output_type": "stream",
     "text": [
      "<re.Match object; span=(46, 52), match='wizard'>\n",
      "['lion', 'lion', 'lion', 'lion', 'lion', 'lion', 'lion', 'lion', 'lion', 'lion', 'lion', 'lion', 'lion', 'lion', 'lion', 'lion', 'lion', 'lion', 'lion', 'lion', 'lion', 'lion', 'lion', 'lion', 'lion', 'lion', 'lion', 'lion', 'lion', 'lion', 'lion', 'lion', 'lion', 'lion', 'lion', 'lion', 'lion', 'lion', 'lion', 'lion', 'lion', 'lion', 'lion', 'lion', 'lion', 'lion', 'lion', 'lion', 'lion', 'lion', 'lion', 'lion', 'lion', 'lion', 'lion', 'lion', 'lion', 'lion', 'lion', 'lion', 'lion', 'lion', 'lion', 'lion', 'lion', 'lion', 'lion', 'lion', 'lion', 'lion', 'lion', 'lion', 'lion', 'lion', 'lion', 'lion', 'lion', 'lion', 'lion', 'lion', 'lion', 'lion', 'lion', 'lion', 'lion', 'lion', 'lion', 'lion', 'lion', 'lion', 'lion', 'lion', 'lion', 'lion', 'lion', 'lion', 'lion', 'lion', 'lion', 'lion', 'lion', 'lion', 'lion', 'lion', 'lion', 'lion', 'lion', 'lion', 'lion', 'lion', 'lion', 'lion', 'lion', 'lion', 'lion', 'lion', 'lion', 'lion', 'lion', 'lion', 'lion', 'lion', 'lion', 'lion', 'lion', 'lion', 'lion', 'lion', 'lion', 'lion', 'lion', 'lion', 'lion', 'lion', 'lion', 'lion', 'lion', 'lion', 'lion', 'lion', 'lion', 'lion', 'lion', 'lion', 'lion', 'lion', 'lion', 'lion', 'lion', 'lion', 'lion', 'lion', 'lion', 'lion', 'lion', 'lion', 'lion', 'lion', 'lion', 'lion', 'lion', 'lion', 'lion', 'lion', 'lion', 'lion', 'lion', 'lion', 'lion', 'lion', 'lion', 'lion', 'lion', 'lion', 'lion', 'lion', 'lion', 'lion', 'lion', 'lion', 'lion', 'lion', 'lion']\n",
      "183\n"
     ]
    }
   ],
   "source": [
    "import re\n",
    "\n",
    "# import L. Frank Baum's The Wonderful Wizard of Oz\n",
    "oz_text = open(\"the_wizard_of_oz_text.txt\",encoding='utf-8').read().lower()\n",
    "\n",
    "# search oz_text for an occurrence of 'wizard' here\n",
    "found_wizard = re.search(\"wizard\",oz_text)\n",
    "print(found_wizard)\n",
    "\n",
    "# find all the occurrences of 'lion' in oz_text here\n",
    "all_lions = re.findall(\"lion\",oz_text)\n",
    "print(all_lions)\n",
    "\n",
    "# store and print the length of all_lions here\n",
    "number_lions = len(all_lions)\n",
    "print(number_lions)"
   ]
  },
  {
   "cell_type": "code",
   "execution_count": null,
   "metadata": {},
   "outputs": [],
   "source": []
  },
  {
   "cell_type": "markdown",
   "metadata": {},
   "source": [
    "# Part-of-Speech Tagging\n",
    "\n",
    "While it is useful to match and search for patterns of individual characters in a text, you can often find more meaning by analyzing text on a word-by-word basis, focusing on the part of speech of each word in a sentence. This process of identifying and labeling the part of speech of words is known as part-of-speech tagging!\n",
    "\n",
    "It may have been a while since you’ve been in English class, so let’s review the nine parts of speech with an example:\n",
    "\n",
    "Wow! Ramona and her class are happily studying the new textbook she has on NLP.\n",
    "\n",
    "* Noun: the name of a person (Ramona,class), place, thing (textbook), or idea (NLP)\n",
    "\n",
    "* Pronoun: a word used in place of a noun (her,she)\n",
    "\n",
    "* Determiner: a word that introduces, or “determines”, a noun (the)\n",
    "\n",
    "* Verb: expresses action (studying) or being (are,has)\n",
    "\n",
    "* Adjective: modifies or describes a noun or pronoun (new)\n",
    "\n",
    "* Adverb: modifies or describes a verb, an adjective, or another adverb (happily)\n",
    "\n",
    "* Preposition: a word placed before a noun or pronoun to form a phrase modifying another word in the sentence (on)\n",
    "\n",
    "* Conjunction: a word that joins words, phrases, or clauses (and)\n",
    "\n",
    "* Interjection: a word used to express emotion (Wow)\n",
    "\n",
    "You can automate the part-of-speech tagging process with nltk‘s pos_tag() function! The function takes one argument, a list of words in the order they appear in a sentence, and returns a list of tuples, where the first entry in the tuple is a word and the second is the part-of-speech tag.\n",
    "\n",
    "Given the sentence split into a list of words below:\n",
    "\n",
    "    word_sentence = ['do', 'you', 'suppose', 'oz', 'could', 'give', 'me', 'a', 'heart', '?']\n",
    "    \n",
    "you can tag the parts of speech as follows:\n",
    "\n",
    "    part_of_speech_tagged_sentence = pos_tag(word_sentence)\n",
    "    \n",
    "The call to pos_tag() will return the following:\n",
    "\n",
    "    [('do', 'VB'), ('you', 'PRP'), ('suppose', 'VB'), ('oz', 'NNS'), ('could', 'MD'), ('give', 'VB'), ('me', 'PRP'), ('a', 'DT'), ('heart', 'NN'), ('?', '.')]\n",
    "    \n",
    "Abbreviations are given instead of the full part of speech name. Some common abbreviations include: NN for nouns, VB for verbs, RB for adverbs, JJ for adjectives, and DT for determiners. A complete list of part-of-speech tags and their abbreviations can be found here."
   ]
  },
  {
   "cell_type": "code",
   "execution_count": null,
   "metadata": {},
   "outputs": [],
   "source": []
  },
  {
   "cell_type": "markdown",
   "metadata": {},
   "source": [
    "# Instructions\n",
    "\n",
    "1.\n",
    "Provided to you in the workspace is the text of The Wonderful Wizard of Oz, broken down into individual words on a sentence by sentence basis in a process known as tokenization. These sentences are called word tokenized sentences, which are stored in word_tokenized_oz.\n",
    "\n",
    "Save the value stored at index 100 of word_tokenized_oz to a variable named witches_fate, and print it. You should see a sentence from the novel, split into individual words, print to the terminal.\n",
    "\n",
    "\n",
    "\n",
    "\n",
    "2.\n",
    "Since the text has been broken down to individual words on a sentence by sentence level, you now can part-of-speech tag each word tokenized sentence in The Wonderful Wizard of Oz! Begin by creating an empty list named pos_tagged_oz to hold the part-of-speech tagged sentences.\n",
    "\n",
    "\n",
    "3.\n",
    "Create a for-loop through each word tokenized sentence in word_tokenized_oz. Within the for-loop, part-of-speech tag each word tokenized sentence and append the result to pos_tagged_oz.\n",
    "\n",
    "\n",
    "\n",
    "\n",
    "4.\n",
    "Save the part-of-speech tagged sentence at index 100 to a variable named witches_fate_pos, and print it."
   ]
  },
  {
   "cell_type": "code",
   "execution_count": 7,
   "metadata": {},
   "outputs": [
    {
     "ename": "ModuleNotFoundError",
     "evalue": "No module named 'word_tokenized_oz'",
     "output_type": "error",
     "traceback": [
      "\u001b[1;31m---------------------------------------------------------------------------\u001b[0m",
      "\u001b[1;31mModuleNotFoundError\u001b[0m                       Traceback (most recent call last)",
      "\u001b[1;32m<ipython-input-7-4aa11be50730>\u001b[0m in \u001b[0;36m<module>\u001b[1;34m\u001b[0m\n\u001b[0;32m      1\u001b[0m \u001b[1;32mimport\u001b[0m \u001b[0mnltk\u001b[0m\u001b[1;33m\u001b[0m\u001b[1;33m\u001b[0m\u001b[0m\n\u001b[0;32m      2\u001b[0m \u001b[1;32mfrom\u001b[0m \u001b[0mnltk\u001b[0m \u001b[1;32mimport\u001b[0m \u001b[0mpos_tag\u001b[0m\u001b[1;33m\u001b[0m\u001b[1;33m\u001b[0m\u001b[0m\n\u001b[1;32m----> 3\u001b[1;33m \u001b[1;32mfrom\u001b[0m \u001b[0mword_tokenized_oz\u001b[0m \u001b[1;32mimport\u001b[0m \u001b[0mword_tokenized_oz\u001b[0m\u001b[1;33m\u001b[0m\u001b[1;33m\u001b[0m\u001b[0m\n\u001b[0m\u001b[0;32m      4\u001b[0m \u001b[1;33m\u001b[0m\u001b[0m\n\u001b[0;32m      5\u001b[0m \u001b[1;31m# save and print the sentence stored at index 100 in word_tokenized_oz here\u001b[0m\u001b[1;33m\u001b[0m\u001b[1;33m\u001b[0m\u001b[1;33m\u001b[0m\u001b[0m\n",
      "\u001b[1;31mModuleNotFoundError\u001b[0m: No module named 'word_tokenized_oz'"
     ]
    }
   ],
   "source": [
    "import nltk\n",
    "from nltk import pos_tag\n",
    "from word_tokenized_oz import word_tokenized_oz\n",
    "\n",
    "# save and print the sentence stored at index 100 in word_tokenized_oz here\n",
    "witches_fate = word_tokenized_oz[100]\n",
    "print(witches_fate)\n",
    "\n",
    "# create a list to hold part-of-speech tagged sentences here\n",
    "pos_tagged_oz = list()\n",
    "\n",
    "# create a for loop through each word tokenized sentence in word_tokenized_oz here\n",
    "for word_tokenized_sentence in word_tokenized_oz:\n",
    "  # part-of-speech tag each sentence and append to pos_tagged_oz here\n",
    "  pos_tagged_oz.append(pos_tag(word_tokenized_sentence))\n",
    "\n",
    "# store and print the part-of-speech tagged sentence at index 100 in witches_fate_pos here\n",
    "witches_fate_pos = pos_tagged_oz[100]\n",
    "print(witches_fate_pos)"
   ]
  },
  {
   "cell_type": "code",
   "execution_count": null,
   "metadata": {},
   "outputs": [],
   "source": []
  },
  {
   "cell_type": "code",
   "execution_count": null,
   "metadata": {},
   "outputs": [],
   "source": []
  },
  {
   "cell_type": "markdown",
   "metadata": {},
   "source": [
    "#Introduction to Chunking\n",
    "You have made it to the juicy stuff! Given your part-of-speech tagged text, you can now use regular expressions to find patterns in sentence structure that give insight into the meaning of a text. This technique of grouping words by their part-of-speech tag is called chunking.\n",
    "\n",
    "With chunking in nltk, you can define a pattern of parts-of-speech tags using a modified notation of regular expressions. You can then find non-overlapping matches, or chunks of words, in the part-of-speech tagged sentences of a text.\n",
    "\n",
    "The regular expression you build to find chunks is called chunk grammar. A piece of chunk grammar can be written as follows:\n",
    "\n",
    "chunk_grammar = \"AN: {<JJ><NN>}\"\n",
    "AN is a user-defined name for the kind of chunk you are searching for. You can use whatever name makes sense given your chunk grammar. In this case AN stands for adjective-noun\n",
    "A pair of curly braces {} surround the actual chunk grammar\n",
    "<JJ> operates similarly to a regex character class, matching any adjective\n",
    "<NN> matches any noun, singular or plural\n",
    "The chunk grammar above will thus match any adjective that is followed by a noun.\n",
    "\n",
    "To use the chunk grammar defined, you must create a nltk RegexpParser object and give it a piece of chunk grammar as an argument.\n",
    "\n",
    "chunk_parser = RegexpParser(chunk_grammar)\n",
    "You can then use the RegexpParser object’s .parse() method, which takes a list of part-of-speech tagged words as an argument, and identifies where such chunks occur in the sentence!\n",
    "\n",
    "Consider the part-of-speech tagged sentence below:\n",
    "\n",
    "pos_tagged_sentence = [('where', 'WRB'), ('is', 'VBZ'), ('the', 'DT'), ('emerald', 'JJ'), ('city', 'NN'), ('?', '.')]\n",
    "You can chunk the sentence to find any adjectives followed by a noun with the following:\n",
    "\n",
    "chunked = chunk_parser.parse(pos_tagged_sentence)"
   ]
  }
 ],
 "metadata": {
  "kernelspec": {
   "display_name": "Python 3",
   "language": "python",
   "name": "python3"
  },
  "language_info": {
   "codemirror_mode": {
    "name": "ipython",
    "version": 3
   },
   "file_extension": ".py",
   "mimetype": "text/x-python",
   "name": "python",
   "nbconvert_exporter": "python",
   "pygments_lexer": "ipython3",
   "version": "3.7.3"
  }
 },
 "nbformat": 4,
 "nbformat_minor": 2
}
